{
  "nbformat": 4,
  "nbformat_minor": 0,
  "metadata": {
    "colab": {
      "provenance": []
    },
    "kernelspec": {
      "name": "python3",
      "display_name": "Python 3"
    },
    "language_info": {
      "name": "python"
    }
  },
  "cells": [
    {
      "cell_type": "markdown",
      "source": [
        "# Language Translation (English to French)"
      ],
      "metadata": {
        "id": "TB_6wJ9VNbr6"
      }
    },
    {
      "cell_type": "code",
      "execution_count": null,
      "metadata": {
        "id": "XVwSuSyfMD42"
      },
      "outputs": [],
      "source": [
        "from tensorflow.keras.models import Model\n",
        "from tensorflow.keras.layers import Input,LSTM,Dense\n",
        "import numpy as np"
      ]
    },
    {
      "cell_type": "code",
      "source": [
        "batch_size = 64 # Batch size for training\n",
        "epochs = 10 # Number of epochs to train for\n",
        "latent_dim = 256 # Latent dimensionality of encoding space\n",
        "num_samples = 10000 # Mumber of samples to train"
      ],
      "metadata": {
        "id": "4iQPUx3-MNRK"
      },
      "execution_count": null,
      "outputs": []
    },
    {
      "cell_type": "code",
      "source": [
        "# Vectorize the data\n",
        "input_texts = []\n",
        "target_texts = []\n",
        "input_characters = set()\n",
        "target_characters = set()\n",
        "with open('eng-fra.txt', 'r', encoding='utf8') as f:\n",
        "    lines = f.read().split('\\n') # make a list of data and splits the content(input and output) into individual lines. Replace space with '\\t'\n",
        "\n",
        "# min(num_samples, len(lines)-1) takes the smaller of the two values\n",
        "# (num_samples or the total number of available lines minus one), effectively creating a range that won't exceed the length of the list.\n",
        "for line in lines[ :min(num_samples, len(lines)-1)]:\n",
        "    input_text, target_text = line.split('\\t') # split using the tab character ('\\t').\n",
        "\n",
        "    # We use '\\t' as the 'start sequence' and '\\n' as the 'end sequence' character for the targets.\n",
        "    target_text = '\\t' + target_text + '\\n'\n",
        "    input_texts.append(input_text)\n",
        "    target_texts.append(target_text)\n",
        "\n",
        "    for char in input_text:\n",
        "        if char not in input_characters:\n",
        "            input_characters.add(char)\n",
        "    for char in target_text:\n",
        "        if char not in target_characters:\n",
        "            target_characters.add(char)"
      ],
      "metadata": {
        "id": "bENhQYMDMNTp"
      },
      "execution_count": null,
      "outputs": []
    },
    {
      "cell_type": "code",
      "source": [
        "lines[0:2]"
      ],
      "metadata": {
        "colab": {
          "base_uri": "https://localhost:8080/"
        },
        "id": "GZNoumPkMNWs",
        "outputId": "c656622b-27fd-4dd1-fb10-4929d893d27a"
      },
      "execution_count": null,
      "outputs": [
        {
          "output_type": "execute_result",
          "data": {
            "text/plain": [
              "['Go.\\tVa !', 'Run!\\tCours\\u202f!']"
            ]
          },
          "metadata": {},
          "execution_count": 5
        }
      ]
    },
    {
      "cell_type": "code",
      "source": [
        "input_texts[0:2]"
      ],
      "metadata": {
        "colab": {
          "base_uri": "https://localhost:8080/"
        },
        "id": "3oyikA4vMNZt",
        "outputId": "77e75620-c7ea-456f-f5cf-6458039b5672"
      },
      "execution_count": null,
      "outputs": [
        {
          "output_type": "execute_result",
          "data": {
            "text/plain": [
              "['Go.', 'Run!']"
            ]
          },
          "metadata": {},
          "execution_count": 6
        }
      ]
    },
    {
      "cell_type": "code",
      "source": [
        "target_texts[0:2]"
      ],
      "metadata": {
        "colab": {
          "base_uri": "https://localhost:8080/"
        },
        "id": "j522s2eRMNfl",
        "outputId": "3ec14d2d-bf6b-438e-cd3d-1d15d84a1e2a"
      },
      "execution_count": null,
      "outputs": [
        {
          "output_type": "execute_result",
          "data": {
            "text/plain": [
              "['\\tVa !\\n', '\\tCours\\u202f!\\n']"
            ]
          },
          "metadata": {},
          "execution_count": 7
        }
      ]
    },
    {
      "cell_type": "code",
      "source": [
        "input_characters"
      ],
      "metadata": {
        "colab": {
          "base_uri": "https://localhost:8080/"
        },
        "id": "iz5wsWszMNix",
        "outputId": "8d04345a-79c3-4096-9a89-7e0c57689efe"
      },
      "execution_count": null,
      "outputs": [
        {
          "output_type": "execute_result",
          "data": {
            "text/plain": [
              "{' ',\n",
              " '!',\n",
              " '$',\n",
              " '&',\n",
              " \"'\",\n",
              " ',',\n",
              " '-',\n",
              " '.',\n",
              " '0',\n",
              " '1',\n",
              " '2',\n",
              " '3',\n",
              " '4',\n",
              " '5',\n",
              " '6',\n",
              " '7',\n",
              " '9',\n",
              " ':',\n",
              " '?',\n",
              " 'A',\n",
              " 'B',\n",
              " 'C',\n",
              " 'D',\n",
              " 'E',\n",
              " 'F',\n",
              " 'G',\n",
              " 'H',\n",
              " 'I',\n",
              " 'J',\n",
              " 'K',\n",
              " 'L',\n",
              " 'M',\n",
              " 'N',\n",
              " 'O',\n",
              " 'P',\n",
              " 'Q',\n",
              " 'R',\n",
              " 'S',\n",
              " 'T',\n",
              " 'U',\n",
              " 'V',\n",
              " 'W',\n",
              " 'Y',\n",
              " 'Z',\n",
              " 'a',\n",
              " 'b',\n",
              " 'c',\n",
              " 'd',\n",
              " 'e',\n",
              " 'f',\n",
              " 'g',\n",
              " 'h',\n",
              " 'i',\n",
              " 'j',\n",
              " 'k',\n",
              " 'l',\n",
              " 'm',\n",
              " 'n',\n",
              " 'o',\n",
              " 'p',\n",
              " 'q',\n",
              " 'r',\n",
              " 's',\n",
              " 't',\n",
              " 'u',\n",
              " 'v',\n",
              " 'w',\n",
              " 'x',\n",
              " 'y',\n",
              " 'z',\n",
              " '’'}"
            ]
          },
          "metadata": {},
          "execution_count": 8
        }
      ]
    },
    {
      "cell_type": "code",
      "source": [
        "input_characters = sorted(list(input_characters))\n",
        "target_characters = sorted(list(target_characters))\n",
        "num_encoder_tokens = len(input_characters)\n",
        "num_decoder_tokens = len(target_characters)\n",
        "max_encoder_seq_length = max([len(txt) for txt in input_texts]) # Length of sentence which have maximum length in input_texts\n",
        "max_decoder_seq_length = max([len(txt) for txt in target_texts])"
      ],
      "metadata": {
        "id": "7FbamF2eMNly"
      },
      "execution_count": null,
      "outputs": []
    },
    {
      "cell_type": "code",
      "source": [
        "print('Number of Samples:', len(input_texts))\n",
        "print('Number of unique input tokens:', num_encoder_tokens)\n",
        "print('Number of unique output tokens:', num_decoder_tokens)\n",
        "print('Max sequence length for inputs:', max_encoder_seq_length)\n",
        "print('Max sequence length for outputs:', max_decoder_seq_length)"
      ],
      "metadata": {
        "colab": {
          "base_uri": "https://localhost:8080/"
        },
        "id": "LuyAyLn2MNoh",
        "outputId": "2e9c7130-e3f3-4d08-9e7b-90c76153ba47"
      },
      "execution_count": null,
      "outputs": [
        {
          "output_type": "stream",
          "name": "stdout",
          "text": [
            "Number of Samples: 10000\n",
            "Number of unique input tokens: 71\n",
            "Number of unique output tokens: 91\n",
            "Max sequence length for inputs: 16\n",
            "Max sequence length for outputs: 59\n"
          ]
        }
      ]
    },
    {
      "cell_type": "code",
      "source": [
        "# Providing Index\n",
        "input_token_index = dict(\n",
        "[(char,i)for i,char in enumerate(input_characters)])\n",
        "\n",
        "target_token_index = dict(\n",
        "[(char,i)for i,char in enumerate(target_characters)])"
      ],
      "metadata": {
        "id": "g2QwDlk9MNrP"
      },
      "execution_count": null,
      "outputs": []
    },
    {
      "cell_type": "code",
      "source": [
        "input_token_index"
      ],
      "metadata": {
        "colab": {
          "base_uri": "https://localhost:8080/"
        },
        "id": "ySOQt81kMNt3",
        "outputId": "f41f2158-9951-4e50-87df-9e41ca093617"
      },
      "execution_count": null,
      "outputs": [
        {
          "output_type": "execute_result",
          "data": {
            "text/plain": [
              "{' ': 0,\n",
              " '!': 1,\n",
              " '$': 2,\n",
              " '&': 3,\n",
              " \"'\": 4,\n",
              " ',': 5,\n",
              " '-': 6,\n",
              " '.': 7,\n",
              " '0': 8,\n",
              " '1': 9,\n",
              " '2': 10,\n",
              " '3': 11,\n",
              " '4': 12,\n",
              " '5': 13,\n",
              " '6': 14,\n",
              " '7': 15,\n",
              " '9': 16,\n",
              " ':': 17,\n",
              " '?': 18,\n",
              " 'A': 19,\n",
              " 'B': 20,\n",
              " 'C': 21,\n",
              " 'D': 22,\n",
              " 'E': 23,\n",
              " 'F': 24,\n",
              " 'G': 25,\n",
              " 'H': 26,\n",
              " 'I': 27,\n",
              " 'J': 28,\n",
              " 'K': 29,\n",
              " 'L': 30,\n",
              " 'M': 31,\n",
              " 'N': 32,\n",
              " 'O': 33,\n",
              " 'P': 34,\n",
              " 'Q': 35,\n",
              " 'R': 36,\n",
              " 'S': 37,\n",
              " 'T': 38,\n",
              " 'U': 39,\n",
              " 'V': 40,\n",
              " 'W': 41,\n",
              " 'Y': 42,\n",
              " 'Z': 43,\n",
              " 'a': 44,\n",
              " 'b': 45,\n",
              " 'c': 46,\n",
              " 'd': 47,\n",
              " 'e': 48,\n",
              " 'f': 49,\n",
              " 'g': 50,\n",
              " 'h': 51,\n",
              " 'i': 52,\n",
              " 'j': 53,\n",
              " 'k': 54,\n",
              " 'l': 55,\n",
              " 'm': 56,\n",
              " 'n': 57,\n",
              " 'o': 58,\n",
              " 'p': 59,\n",
              " 'q': 60,\n",
              " 'r': 61,\n",
              " 's': 62,\n",
              " 't': 63,\n",
              " 'u': 64,\n",
              " 'v': 65,\n",
              " 'w': 66,\n",
              " 'x': 67,\n",
              " 'y': 68,\n",
              " 'z': 69,\n",
              " '’': 70}"
            ]
          },
          "metadata": {},
          "execution_count": 12
        }
      ]
    },
    {
      "cell_type": "code",
      "source": [
        "# Return a new array of given shape and type, filled with zeros\n",
        "# 10000 ---> 10000 sequences (10000 lists)\n",
        "# 16-----> Each sequence have upto 16 tokens (16 lists in each 10000 lists)\n",
        "# 71 -----> Each token is represented by a one-hot vector of length 71 (71 unique characters)\n",
        "# In this case all the values are zeroes\n",
        "# encoder_input_data ----> (10000,16,71)\n",
        "# decoder_input_data ----> (10000,59,91)\n",
        "# decoder_target_data ----> (10000,59,91)\n",
        "\n",
        "\n",
        "encoder_input_data = np.zeros(\n",
        "[len(input_texts), max_encoder_seq_length, num_encoder_tokens], dtype='float32')\n",
        "\n",
        "decoder_input_data = np.zeros(\n",
        "[len(input_texts), max_decoder_seq_length, num_decoder_tokens], dtype='float32')\n",
        "\n",
        "decoder_target_data = np.zeros(\n",
        "[len(target_texts), max_decoder_seq_length, num_decoder_tokens], dtype='float32')"
      ],
      "metadata": {
        "id": "SR8jQSJkMNwe"
      },
      "execution_count": null,
      "outputs": []
    },
    {
      "cell_type": "code",
      "source": [
        "encoder_input_data"
      ],
      "metadata": {
        "colab": {
          "base_uri": "https://localhost:8080/"
        },
        "id": "e6yckXy_N3sd",
        "outputId": "de7e6d62-3426-4d80-bdfb-5564915fe26a"
      },
      "execution_count": null,
      "outputs": [
        {
          "output_type": "execute_result",
          "data": {
            "text/plain": [
              "array([[[0., 0., 0., ..., 0., 0., 0.],\n",
              "        [0., 0., 0., ..., 0., 0., 0.],\n",
              "        [0., 0., 0., ..., 0., 0., 0.],\n",
              "        ...,\n",
              "        [0., 0., 0., ..., 0., 0., 0.],\n",
              "        [0., 0., 0., ..., 0., 0., 0.],\n",
              "        [0., 0., 0., ..., 0., 0., 0.]],\n",
              "\n",
              "       [[0., 0., 0., ..., 0., 0., 0.],\n",
              "        [0., 0., 0., ..., 0., 0., 0.],\n",
              "        [0., 0., 0., ..., 0., 0., 0.],\n",
              "        ...,\n",
              "        [0., 0., 0., ..., 0., 0., 0.],\n",
              "        [0., 0., 0., ..., 0., 0., 0.],\n",
              "        [0., 0., 0., ..., 0., 0., 0.]],\n",
              "\n",
              "       [[0., 0., 0., ..., 0., 0., 0.],\n",
              "        [0., 0., 0., ..., 0., 0., 0.],\n",
              "        [0., 0., 0., ..., 0., 0., 0.],\n",
              "        ...,\n",
              "        [0., 0., 0., ..., 0., 0., 0.],\n",
              "        [0., 0., 0., ..., 0., 0., 0.],\n",
              "        [0., 0., 0., ..., 0., 0., 0.]],\n",
              "\n",
              "       ...,\n",
              "\n",
              "       [[0., 0., 0., ..., 0., 0., 0.],\n",
              "        [0., 0., 0., ..., 0., 0., 0.],\n",
              "        [0., 0., 0., ..., 0., 0., 0.],\n",
              "        ...,\n",
              "        [0., 0., 0., ..., 0., 0., 0.],\n",
              "        [0., 0., 0., ..., 0., 0., 0.],\n",
              "        [0., 0., 0., ..., 0., 0., 0.]],\n",
              "\n",
              "       [[0., 0., 0., ..., 0., 0., 0.],\n",
              "        [0., 0., 0., ..., 0., 0., 0.],\n",
              "        [0., 0., 0., ..., 0., 0., 0.],\n",
              "        ...,\n",
              "        [0., 0., 0., ..., 0., 0., 0.],\n",
              "        [0., 0., 0., ..., 0., 0., 0.],\n",
              "        [0., 0., 0., ..., 0., 0., 0.]],\n",
              "\n",
              "       [[0., 0., 0., ..., 0., 0., 0.],\n",
              "        [0., 0., 0., ..., 0., 0., 0.],\n",
              "        [0., 0., 0., ..., 0., 0., 0.],\n",
              "        ...,\n",
              "        [0., 0., 0., ..., 0., 0., 0.],\n",
              "        [0., 0., 0., ..., 0., 0., 0.],\n",
              "        [0., 0., 0., ..., 0., 0., 0.]]], dtype=float32)"
            ]
          },
          "metadata": {},
          "execution_count": 14
        }
      ]
    },
    {
      "cell_type": "code",
      "source": [
        "# One Hot Representation\n",
        "for i, (input_text,target_text) in enumerate(zip(input_texts,target_texts)):\n",
        "  for t, char in enumerate(input_text):\n",
        "    encoder_input_data[i, t, input_token_index[char]] = 1.\n",
        "  encoder_input_data[i, t+1:, input_token_index[' ']] = 1.\n",
        "  for t, char in enumerate(target_text):\n",
        "    # decoder_target_data is ahead of decoder_input data by one timestep\n",
        "    decoder_input_data[i, t, target_token_index[char]] = 1.\n",
        "    if t > 0:\n",
        "      # decoder_target_data will be ahead of one timestep\n",
        "      # and will not include the start character.\n",
        "      decoder_target_data[i, t-1, target_token_index[char]] = 1.\n",
        "\n",
        "  decoder_input_data[i, t+1:, target_token_index[' ']] = 1.\n",
        "  decoder_target_data[i, t:, target_token_index[' ']] = 1.\n",
        "\n",
        "# Encoders\n",
        "# Explaination\n",
        "# For word 'Omkar'\n",
        "# 'i' is iterate for 10000 sequences and 't' is iterate for '16' tokens\n",
        "# for 1st sequence (out of 10000) and for first token/list (out of 16), input_token_index['O'],  encoder_input_data[0,0,(index number for character'O')] = 1\n",
        "# for 1st sequence (out of 10000) and for second token (out of 16), input_token_index['m'],  encoder_input_data[0,1,(index number for character'M')] = 1\n",
        "# for 1st sequence (out of 10000) and for third token (out of 16), input_token_index['k'],  encoder_input_data[0,2,(index number for character'k')] = 1\n",
        "# for 1st sequence (out of 10000) and for fourth token (out of 16), input_token_index['a'],  encoder_input_data[0,3,(index number for character'a')] = 1\n",
        "# for 1st sequence (out of 10000) and for fifth token (out of 16), input_token_index['r'],  encoder_input_data[0,4,(index number for character'r')] = 1\n",
        "# encoder_input_data[i, t+1:, input_token_index[' ']] = 1. -----> In first sequence, from 6 to 16th token if there is any space is present then it set to 1\n",
        "\n",
        "# Traslation Omkar--->abcdfe\n",
        "# Decoders\n",
        "# The input to the decoder at timestep t predicts the output at timestep t+1. This is typical in seq2seq model.\n",
        "# for 1st sequence (out of 10000) and for first token/list (out of 59), target_token_index['a'],  decoder_input_data[0,0,(index number for character'a')] = 1\n",
        "# for 1nd sequence (out of 10000) and for second token/list (out of 59), target_token_index['b'],  decoder_input_data[0,1,(index number for character'b')] = 1\n",
        "# Now here the t>1\n",
        "# for 1nd sequence (out of 10000) and for first token/list (out of 59), target_token_index['b'],  decoder_target_data[0,1,(index number for character'b')] = 1"
      ],
      "metadata": {
        "id": "svxfqLjQN3v8"
      },
      "execution_count": null,
      "outputs": []
    },
    {
      "cell_type": "code",
      "source": [
        "encoder_input_data.shape"
      ],
      "metadata": {
        "colab": {
          "base_uri": "https://localhost:8080/"
        },
        "id": "dTh_z0boN3zX",
        "outputId": "79d0eb07-96b5-4829-ed05-441abcae14d3"
      },
      "execution_count": null,
      "outputs": [
        {
          "output_type": "execute_result",
          "data": {
            "text/plain": [
              "(10000, 16, 71)"
            ]
          },
          "metadata": {},
          "execution_count": 17
        }
      ]
    },
    {
      "cell_type": "code",
      "source": [
        "# Define an input sequence\n",
        "# None: The sequence length is flexible, meaning it can vary depending on the input.\n",
        "# num_encoder_tokens: Number of unique input tokens\n",
        "encoder_inputs = Input(shape=(None, num_encoder_tokens))\n",
        "\n",
        "# return_state= True means that, apart from the regular output,\n",
        "# the LSTM will also return its internal hidden states (state_h) and cell states (state_c),\n",
        "# which will be used later by the decoder.\n",
        "encoder = LSTM(latent_dim, return_state=True)\n",
        "\n",
        "# The LSTM processes the input and returns three things:\n",
        "# encoder_outputs: The output at each timestep (not used in this case, so it’s discarded).\n",
        "# state_h: The hidden state of the LSTM after processing the sequence.\n",
        "# state_c: The cell state of the LSTM after processing the sequence.\n",
        "encoder_outputs, state_h, state_c = encoder(encoder_inputs)\n",
        "\n",
        "# We discard 'encoder_outputs' and only keep the states\n",
        "encoder_states = [state_h, state_c]"
      ],
      "metadata": {
        "id": "Z2KNzNNwN32p"
      },
      "execution_count": null,
      "outputs": []
    },
    {
      "cell_type": "code",
      "source": [
        "# Set up the decoder, using 'encoder_states' as initial state.\n",
        "decoder_inputs = Input(shape=(None, num_decoder_tokens))\n",
        "\n",
        "# The decoder LSTM is initialized with latent_dim units, the same size as the encoder to maintain consistency in the sequence-to-sequence model.\n",
        "# return_sequences=True: This means that the LSTM will return the output at every timestep (needed for generating a sequence of outputs).\n",
        "# return_state=True: Like the encoder, the decoder also returns the internal states (hidden state state_h and cell state state_c).\n",
        "decoder_lstm = LSTM(latent_dim, return_sequences=True, return_state=True)\n",
        "\n",
        "# This line applies the LSTM to the decoder_inputs and initializes the LSTM with the encoder_states\n",
        "# from the encoder (i.e., the hidden and cell states state_h and state_c).\n",
        "# By passing initial_state=encoder_states, the decoder is primed with the context captured by the encoder\n",
        "# (e.g., in a translation task, the information from the source sentence).\n",
        "# _ , _: These represent the decoder's hidden and cell states at each timestep, which are discarded here during training but will be useful during inference.\n",
        "decoder_outputs , _, _ = decoder_lstm(decoder_inputs, initial_state=encoder_states)\n",
        "\n",
        "# The Dense layer is a fully connected layer that converts the LSTM's output into a prediction for each timestep.\n",
        "# activation='softmax': This applies the softmax function to generate a probability distribution over the possible tokens at each timestep.\n",
        "decoder_dense = Dense(num_decoder_tokens, activation='softmax')\n",
        "\n",
        "# decoder_outputs: This is the final output of the decoder, a sequence of predicted tokens for each timestep.\n",
        "decoder_outputs = decoder_dense(decoder_outputs)"
      ],
      "metadata": {
        "id": "_yExt5jEN350"
      },
      "execution_count": null,
      "outputs": []
    },
    {
      "cell_type": "code",
      "source": [
        "# Define the model that will turn\n",
        "# 'encoder_input_data' and 'decoder_input_data' into 'decoder_target_data'\n",
        "model = Model([encoder_inputs, decoder_inputs], decoder_outputs)\n",
        "\n",
        "# Training the model\n",
        "model.compile(optimizer = 'rmsprop', loss='categorical_crossentropy', metrics=['accuracy'])\n",
        "model.fit([encoder_input_data, decoder_input_data], decoder_target_data,\n",
        "          batch_size=batch_size,\n",
        "          epochs = epochs,\n",
        "          validation_split=0.2)"
      ],
      "metadata": {
        "colab": {
          "base_uri": "https://localhost:8080/"
        },
        "id": "Jmn-GpgKN3-f",
        "outputId": "47732009-ea33-4947-db25-aa94a7626a82"
      },
      "execution_count": null,
      "outputs": [
        {
          "output_type": "stream",
          "name": "stdout",
          "text": [
            "Epoch 1/10\n",
            "\u001b[1m125/125\u001b[0m \u001b[32m━━━━━━━━━━━━━━━━━━━━\u001b[0m\u001b[37m\u001b[0m \u001b[1m56s\u001b[0m 424ms/step - accuracy: 0.7165 - loss: 1.2293 - val_accuracy: 0.6888 - val_loss: 1.1869\n",
            "Epoch 2/10\n",
            "\u001b[1m125/125\u001b[0m \u001b[32m━━━━━━━━━━━━━━━━━━━━\u001b[0m\u001b[37m\u001b[0m \u001b[1m52s\u001b[0m 415ms/step - accuracy: 0.7305 - loss: 0.9940 - val_accuracy: 0.7137 - val_loss: 1.0498\n",
            "Epoch 3/10\n",
            "\u001b[1m125/125\u001b[0m \u001b[32m━━━━━━━━━━━━━━━━━━━━\u001b[0m\u001b[37m\u001b[0m \u001b[1m83s\u001b[0m 423ms/step - accuracy: 0.7535 - loss: 0.8870 - val_accuracy: 0.7130 - val_loss: 1.3986\n",
            "Epoch 4/10\n",
            "\u001b[1m125/125\u001b[0m \u001b[32m━━━━━━━━━━━━━━━━━━━━\u001b[0m\u001b[37m\u001b[0m \u001b[1m81s\u001b[0m 415ms/step - accuracy: 0.7819 - loss: 0.7807 - val_accuracy: 0.7604 - val_loss: 0.8393\n",
            "Epoch 5/10\n",
            "\u001b[1m125/125\u001b[0m \u001b[32m━━━━━━━━━━━━━━━━━━━━\u001b[0m\u001b[37m\u001b[0m \u001b[1m52s\u001b[0m 413ms/step - accuracy: 0.7919 - loss: 0.7309 - val_accuracy: 0.7679 - val_loss: 0.7988\n",
            "Epoch 6/10\n",
            "\u001b[1m125/125\u001b[0m \u001b[32m━━━━━━━━━━━━━━━━━━━━\u001b[0m\u001b[37m\u001b[0m \u001b[1m82s\u001b[0m 419ms/step - accuracy: 0.8041 - loss: 0.6697 - val_accuracy: 0.7741 - val_loss: 0.7709\n",
            "Epoch 7/10\n",
            "\u001b[1m125/125\u001b[0m \u001b[32m━━━━━━━━━━━━━━━━━━━━\u001b[0m\u001b[37m\u001b[0m \u001b[1m82s\u001b[0m 423ms/step - accuracy: 0.8131 - loss: 0.6362 - val_accuracy: 0.7828 - val_loss: 0.7413\n",
            "Epoch 8/10\n",
            "\u001b[1m125/125\u001b[0m \u001b[32m━━━━━━━━━━━━━━━━━━━━\u001b[0m\u001b[37m\u001b[0m \u001b[1m82s\u001b[0m 423ms/step - accuracy: 0.8209 - loss: 0.6100 - val_accuracy: 0.7849 - val_loss: 0.7251\n",
            "Epoch 9/10\n",
            "\u001b[1m125/125\u001b[0m \u001b[32m━━━━━━━━━━━━━━━━━━━━\u001b[0m\u001b[37m\u001b[0m \u001b[1m82s\u001b[0m 419ms/step - accuracy: 0.8271 - loss: 0.5897 - val_accuracy: 0.7888 - val_loss: 0.7057\n",
            "Epoch 10/10\n",
            "\u001b[1m125/125\u001b[0m \u001b[32m━━━━━━━━━━━━━━━━━━━━\u001b[0m\u001b[37m\u001b[0m \u001b[1m80s\u001b[0m 405ms/step - accuracy: 0.8326 - loss: 0.5696 - val_accuracy: 0.7964 - val_loss: 0.6892\n"
          ]
        },
        {
          "output_type": "execute_result",
          "data": {
            "text/plain": [
              "<keras.src.callbacks.history.History at 0x7ccc63d67d90>"
            ]
          },
          "metadata": {},
          "execution_count": 22
        }
      ]
    },
    {
      "cell_type": "code",
      "source": [],
      "metadata": {
        "id": "qv06OBCYaY_s"
      },
      "execution_count": null,
      "outputs": []
    },
    {
      "cell_type": "code",
      "source": [],
      "metadata": {
        "id": "IKSSFpCZaZCS"
      },
      "execution_count": null,
      "outputs": []
    },
    {
      "cell_type": "code",
      "source": [],
      "metadata": {
        "id": "VbrlwGxJaZFF"
      },
      "execution_count": null,
      "outputs": []
    },
    {
      "cell_type": "code",
      "source": [],
      "metadata": {
        "id": "av0e6X4EaZID"
      },
      "execution_count": null,
      "outputs": []
    },
    {
      "cell_type": "code",
      "source": [],
      "metadata": {
        "id": "_mAUjYQFaZNt"
      },
      "execution_count": null,
      "outputs": []
    },
    {
      "cell_type": "code",
      "source": [],
      "metadata": {
        "id": "noq_wo50N4DZ"
      },
      "execution_count": null,
      "outputs": []
    },
    {
      "cell_type": "code",
      "source": [],
      "metadata": {
        "id": "KBWaXiyjN4Gn"
      },
      "execution_count": null,
      "outputs": []
    }
  ]
}